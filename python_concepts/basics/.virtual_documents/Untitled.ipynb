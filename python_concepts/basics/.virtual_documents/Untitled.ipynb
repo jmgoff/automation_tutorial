1








b =1


print(b)



